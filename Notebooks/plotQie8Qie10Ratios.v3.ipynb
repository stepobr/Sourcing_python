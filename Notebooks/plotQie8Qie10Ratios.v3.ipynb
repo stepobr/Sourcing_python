{
 "metadata": {
  "kernelspec": {
   "display_name": "Python 2",
   "language": "python",
   "name": "python2"
  },
  "language_info": {
   "codemirror_mode": {
    "name": "ipython",
    "version": 2
   },
   "file_extension": ".py",
   "mimetype": "text/x-python",
   "name": "python",
   "nbconvert_exporter": "python",
   "pygments_lexer": "ipython2",
   "version": "2.7.10"
  },
  "name": ""
 },
 "nbformat": 3,
 "nbformat_minor": 0,
 "worksheets": [
  {
   "cells": [
    {
     "cell_type": "code",
     "collapsed": false,
     "input": [
      "import ROOT\n",
      "from array import array\n",
      "import numpy as np\n",
      "import sys\n",
      "sys.path.append(\"../Common\")\n",
      "import utils\n",
      "from utils import *\n",
      "import math\n",
      "#reload(utils)\n",
      "#\n",
      "f = ROOT.TFile(\"../Scripts/forQieRatios.root\")"
     ],
     "language": "python",
     "metadata": {},
     "outputs": [],
     "prompt_number": 2
    },
    {
     "cell_type": "raw",
     "metadata": {},
     "source": [
      "******************************************************************************\n",
      "*Tree    :t         : qie8 and qie10 data                                    *\n",
      "*Entries :       24 : Total =            4061 bytes  File  Size =       2032 *\n",
      "*        :          : Tree compression factor =   1.64                       *\n",
      "******************************************************************************\n",
      "*Br    0 :qie data  : eta/D:phi/D:emhad/D:nentries8/D:fcMean8/D:fcMean8err/D:*\n",
      "*         | fcIntegral8/D:nentries10/D:fcMean10/D:fcMean10err/D:             *\n",
      "*         | fcIntegral10/D                                                   *\n",
      "*Entries :       24 : Total  Size=       3671 bytes  File Size  =       1330 *\n",
      "*Baskets :        1 : Basket Size=      32000 bytes  Compression=   1.64     *\n",
      "*............................................................................*"
     ]
    },
    {
     "cell_type": "code",
     "collapsed": false,
     "input": [
      "def ratioError(y1, dy1, y2, dy2):\n",
      "    # Error of y1/(y1+y2)\n",
      "    dummy = math.sqrt( dy1*dy1/y1/y1  + dy2*dy2/y2/y2 )\n",
      "    try:\n",
      "        ratio = y1/(y1 + y2)\n",
      "        error = ratio*dummy\n",
      "        #error = 0\n",
      "    except ZeroDivisionError, e:\n",
      "        print str(e)\n",
      "        error = 0\n",
      "        pass\n",
      "        \n",
      "    return error"
     ],
     "language": "python",
     "metadata": {},
     "outputs": [],
     "prompt_number": 3
    },
    {
     "cell_type": "code",
     "collapsed": false,
     "input": [
      "# Plotting fcMean8/(fcMean8 + fcMean10)\n",
      "\n",
      "graph810had = ROOT.TGraphErrors()\n",
      "graph810em = ROOT.TGraphErrors()\n",
      "graph10had = ROOT.TGraphErrors()  # Eta 30 and 34\n",
      "\n",
      "\n",
      "t = f.Get(\"t\")\n",
      "for i in range(t.GetEntries()):\n",
      "    nb = t.GetEntry(i)\n",
      "    if nb < 0:\n",
      "        continue \n",
      "        \n",
      "    if t.fcMean8 == 0 or t.fcMean10 == 0:\n",
      "        continue\n",
      "    \n",
      "    try:\n",
      "        r = t.fcMean8/(t.fcMean8 + t.fcMean10)\n",
      "    except ZeroDivisionError, e:\n",
      "        print \"Zero division for eta\", t.eta, \"emhad\", t.emhad\n",
      "        \n",
      "    dr = ratioError(t.fcMean8, t.fcMean8err, t.fcMean10, t.fcMean10err)\n",
      "        \n",
      "    if (t.eta==30 or t.eta==34) and t.emhad == 2:\n",
      "        pointNo = graph810had.GetN()\n",
      "        graph10had.SetPoint(pointNo, t.eta, r)\n",
      "        graph10had.SetPointError(pointNo, 0., dr) \n",
      "            \n",
      "    elif (t.eta==30 or t.eta==32) and t.emhad == 1:\n",
      "        pointNo = graph810had.GetN()\n",
      "        graph810em.SetPoint(pointNo, t.eta, r)\n",
      "        graph810em.SetPointError(pointNo, 0., dr) \n",
      "        print t.eta, t.emhad, r\n",
      "    \n",
      "    else:\n",
      "        pointNo = graph810had.GetN()\n",
      "        graph810had.SetPoint(pointNo, t.eta, r)\n",
      "        graph810had.SetPointError(pointNo, 0., dr)\n",
      "\n",
      "    \n",
      "    \n",
      "#Drawing\n",
      "graph810had.SetMarkerColor(ROOT.kBlue)\n",
      "graph810had.SetLineColor(ROOT.kBlue)\n",
      "graph810em.SetLineColor(ROOT.kBlack)\n",
      "graph810em.SetMarkerColor(ROOT.kBlack)\n",
      "graph10had.SetLineColor(ROOT.kRed)\n",
      "graph10had.SetMarkerColor(ROOT.kRed)\n",
      "\n",
      "c = ROOT.TCanvas()\n",
      "ROOT.gStyle.SetMarkerStyle(21)\n",
      "graph810had.SetFillStyle(0)\n",
      "graph810had.Draw(\"AP\")\n",
      "c.Modified()\n",
      "graph810had.GetYaxis().SetRangeUser(0.4, 0.55)\n",
      "graph10had.Draw(\"P\")\n",
      "graph810em.Draw(\"P\")"
     ],
     "language": "python",
     "metadata": {},
     "outputs": [
      {
       "output_type": "stream",
       "stream": "stdout",
       "text": [
        "30.0 1.0 0.443232980993\n",
        "32.0 1.0 0.44523761096\n"
       ]
      }
     ],
     "prompt_number": 13
    },
    {
     "cell_type": "code",
     "collapsed": false,
     "input": [
      "#Print data\n",
      "\n",
      "emhad = ['EM', 'HAD']\n",
      "d1d2 = ['2-4']\n",
      "data = {}\n",
      "\n",
      "t = f.Get(\"t\")\n",
      "\n",
      "for i in range(t.GetEntries()):\n",
      "    nb = t.GetEntry(i)\n",
      "    if nb < 0:\n",
      "        continue \n",
      "        \n",
      "    if t.fcMean8 == 0 or t.fcMean10 == 0:\n",
      "        continue\n",
      "    \n",
      "    try:\n",
      "        r = t.fcMean8/(t.fcMean8 + t.fcMean10)\n",
      "    except ZeroDivisionError, e:\n",
      "        print \"Zero division for eta\", t.eta, \"emhad\", t.emhad\n",
      "        \n",
      "    dr = ratioError(t.fcMean8, t.fcMean8err, t.fcMean10, t.fcMean10err)\n",
      "    key = str(int(t.eta)) + emhad[int(t.emhad)-1]\n",
      "    data[key] = str(int(t.phi)) + \"\\t\" + str(int(t.eta)) + \"\\t\" + emhad[int(t.emhad)-1] + \"\\t\" + str(round(r, 3))\n",
      "    if (t.eta==30 or t.eta==34) and t.emhad == 2:\n",
      "        data[key] += '\\tqie10 only'\n",
      "\n",
      "print \"##phi\\teta\\temhad\\tratio\"\n",
      "for key in sorted(data.keys()):\n",
      "    print data[key]\n",
      "    \n"
     ],
     "language": "python",
     "metadata": {},
     "outputs": [
      {
       "output_type": "stream",
       "stream": "stdout",
       "text": [
        "##phi\teta\temhad\tratio\n",
        "39\t29\tHAD\t0.446\n",
        "39\t30\tEM\t0.443\n",
        "39\t30\tHAD\t0.491\tqie10 only\n",
        "39\t31\tHAD\t0.443\n",
        "39\t32\tEM\t0.445\n",
        "39\t32\tHAD\t0.463\n",
        "39\t33\tHAD\t0.452\n",
        "39\t34\tHAD\t0.477\tqie10 only\n",
        "39\t35\tHAD\t0.441\n",
        "39\t36\tHAD\t0.455\n",
        "39\t37\tHAD\t0.448\n",
        "39\t38\tHAD\t0.451\n",
        "39\t39\tHAD\t0.439\n",
        "39\t41\tHAD\t0.44\n"
       ]
      }
     ],
     "prompt_number": 4
    },
    {
     "cell_type": "code",
     "collapsed": true,
     "input": [],
     "language": "python",
     "metadata": {},
     "outputs": [],
     "prompt_number": null
    }
   ],
   "metadata": {}
  }
 ]
}