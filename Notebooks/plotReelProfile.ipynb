{
 "metadata": {
  "name": "plotReelProfile"
 },
 "nbformat": 3,
 "nbformat_minor": 0,
 "worksheets": [
  {
   "cells": [
    {
     "cell_type": "code",
     "collapsed": false,
     "input": [
      "import ROOT\n",
      "from array import array\n",
      "import numpy as np\n",
      "import sys\n",
      "sys.path.append(\"../Common\")\n",
      "import utils\n",
      "from utils import *\n",
      "reload(utils)"
     ],
     "language": "python",
     "metadata": {},
     "outputs": [
      {
       "output_type": "pyout",
       "prompt_number": 143,
       "text": [
        "<module 'utils' from '../Common/utils.pyc'>"
       ]
      }
     ],
     "prompt_number": 143
    },
    {
     "cell_type": "code",
     "collapsed": false,
     "input": [
      "## Parameters\n",
      "f = ROOT.TFile(\"/afs/cern.ch/work/s/stepobr/public/264789/hcalSourceDataMon.264789.root\")\n",
      "etaId = 31\n",
      "phiId = 39\n",
      "depthId = 2\n",
      "qieId = 8\n",
      "\n",
      "#Misc params\n",
      "binsX = 200\n",
      "binsY = 500\n",
      "deltaX = 1000  # Extend histo X limits\n",
      "binStart = 6  # Mean value calculated starting this bin"
     ],
     "language": "python",
     "metadata": {},
     "outputs": [],
     "prompt_number": 148
    },
    {
     "cell_type": "code",
     "collapsed": false,
     "input": [
      "if qieId == 8:\n",
      "# fC\n",
      "    xx = np.array([-3.0,-0.4,2.2,4.8,7.4,10.0,12.6,15.2,17.8,20.4,23.0,25.6,28.2,30.8,33.4,36.0,41.2,46.4,51.6,\n",
      "        56.8,62.0,67.2,72.4,80.2,88.0,95.8,103.6,114.0,124.4,134.8,147.8,160.8,173.8,\n",
      "        186.8,199.8,212.8,225.8,238.8,251.8,264.8,277.8,290.8,303.8,316.8,329.8,342.8,368.8,394.8,420.8,\n",
      "        446.8,472.8,498.8,524.8,563.8,602.8,641.8,680.8,732.8,784.8,836.8,901.8,966.8,1031.8 ])\n",
      "\n",
      "#    xx = np.array([0.0,1.0,2.0,3.0,4.0,5.0,6.0,7.0,8.0,9.0,10.0,11.0,12.0,13.0,14.0,15.0,17.0,19.0,21.0,23.0,25.0,27.0,29.0,\n",
      "#                   32.0,35.0,38.0,41.0,45.0,49.0,53.0,58.0,63.0,68.0,73,78,83,88,93,98,103,108,113,118,123,128,133,143,153,163,173,\n",
      "#                   183,193,203,218,233,248,263,283,303,323,348,373,398]  )\n",
      "\n",
      "if qieId == 10:\n",
      "#    xx = np.array([0,1,2,3,4,5,6,7,8,9,10,11,12,13,14,15,16,18,20,22,24,26,28,30,32,34,36,38,40,42,44,46,48,50,52,54,56,60,64,\n",
      "#                   68,72,76,80,84,88,92,96,100,104,108,112,116,120,124,128,132,136,140,148,156,164,172,180,188,196]\n",
      "\n",
      "    xx = np.array([-16.0,-12.9,-9.8,-6.7,-3.6,-0.5,2.6,5.7,8.8,11.9,15.0,18.1,21.2,24.3,27.4,30.5,33.6,39.8,46.0,52.2,58.4,64.6,70.8,\n",
      "                77.0,83.2,89.4,95.6,101.8,108.0,114.2,120.4,126.6,132.8,139.0,145.2,151.4,157.6,170.0,182.4,194.8,207.2,219.6,232.0,\n",
      "                244.4,256.8,269.2,281.6,294.0,306.4,318.8,331.2,343.6,356.0,368.4,380.8,393.2,405.6,418.0,442.8,467.6,492.4,517.2,\n",
      "                542.0,566.8,591.6,]) # 1031.8]\n",
      "    \n",
      "tubeName = None\n",
      "hReel = 0   # Histo \n",
      "t = f.Get(\"eventTree\")\n",
      "#Loop over entries\n",
      "\n",
      "reelRightEdge = -10000.\n",
      "for i in range(0, t.GetEntries()):\n",
      "    nb = t.GetEntry(i)\n",
      "    if nb < 0:\n",
      "        continue \n",
      "    \n",
      "    (hf, eta, phi) = getEtaPhiFromTube(t.tubeName)\n",
      "    if eta != etaId or phi != phiId:\n",
      "        continue\n",
      "    if tubeName == None:\n",
      "        tubeName = t.tubeName.strip('\\x00').replace('SRCTUBE', '')\n",
      "    \n",
      "    if hReel == 0:\n",
      "        (reelMin, reelMax) = getReelLimits(t.tubeDescription)  \n",
      "        print \"Tube limits:\", reelMin, reelMax\n",
      "        reelMin -= deltaX\n",
      "        reelMax += deltaX\n",
      "        hReel = ROOT.TH2D(\"hReel\", \"Reel profile\", binsX, reelMin, reelMax, binsY, 0., 400.)\n",
      "    \n",
      "    xReel = t.reelPos\n",
      "    \n",
      "#    if xReel > reelRightEdge:\n",
      "#        reelRightEdge = xReel\n",
      "#    else:\n",
      "#        continue\n",
      "    \n",
      "    nDepths = t.nChInEvent\n",
      "    if nDepths < 1:\n",
      "        print \"Zero number of depths in event\"\n",
      "        continue\n",
      "        \n",
      "    cap0hist = np.array(t.chHistBinContentCap0, dtype=np.ushort).reshape(nDepths, 65)\n",
      "    cap1hist = np.array(t.chHistBinContentCap1, dtype=np.ushort).reshape(nDepths, 65)\n",
      "    cap2hist = np.array(t.chHistBinContentCap2, dtype=np.ushort).reshape(nDepths, 65)\n",
      "    cap3hist = np.array(t.chHistBinContentCap3, dtype=np.ushort).reshape(nDepths, 65)\n",
      "    \n",
      "    capSum = np.add(cap0hist, cap1hist)\n",
      "    capSum = np.add(capSum, cap2hist)\n",
      "    capSum = np.add(capSum, cap3hist)\n",
      "    \n",
      "    for n in range(nDepths):\n",
      "        if t.detidepth[n] != depthId or t.detiphi[n] != phiId or t.detieta[n] != etaId:\n",
      "            continue\n",
      "       \n",
      "        if qieId == 8:\n",
      "            yMean = getMeanQie8(capSum[n, :], xx, binStart)\n",
      "#            yMean = getMeanQie8(cap1hist, xx, binStart)\n",
      "        elif qieId == 10:\n",
      "            continue\n",
      "            #yMean = getMeanQuie10(capSum[n, :], xx, binStart)\n",
      "        else:\n",
      "            continue\n",
      "        hReel.Fill(xReel, yMean)\n",
      "\n",
      "ROOT.gStyle.SetOptStat(0)\n",
      "hReelPr = hReel.ProfileX()\n",
      "hReelPr.SetTitle(\"Ieta\" + str(etaId) + \"_Iphi\" + str(phiId) + \"_Depth\" + str(depthId) + '_' + str(tubeName) + \"reelProfile\" )\n",
      "hReelPr.GetXaxis().SetTitle(\"reel\")\n",
      "c2 = ROOT.TCanvas(\"c2\",\" \", 600, 300)\n",
      "hReelPr.Draw()\n",
      "#hReel.Draw()\n",
      "#hReelD1 = hReelPr.Clone(\"hReelD1\")\n",
      "        \n",
      "\n",
      "  "
     ],
     "language": "python",
     "metadata": {},
     "outputs": [
      {
       "output_type": "stream",
       "stream": "stdout",
       "text": [
        "Tube limits: 4005.0 5675.0\n"
       ]
      }
     ],
     "prompt_number": 149
    },
    {
     "cell_type": "code",
     "collapsed": false,
     "input": [
      "a = np.array([[1, 2], [2,3], [3,4]])\n",
      "b = np.array([[2,3], [3,4], [4,5]])\n",
      "c = np.array([[3,4], [4,5], [5,6]])\n",
      "d = np.add(a, b)\n",
      "d = np.add(d,c)\n",
      "print d\n",
      "print d[0, :]"
     ],
     "language": "python",
     "metadata": {},
     "outputs": [
      {
       "output_type": "stream",
       "stream": "stdout",
       "text": [
        "[[ 6  9]\n",
        " [ 9 12]\n",
        " [12 15]]\n",
        "[6 9]\n"
       ]
      }
     ],
     "prompt_number": 7
    },
    {
     "cell_type": "code",
     "collapsed": false,
     "input": [
      "c = ROOT.TCanvas(\"c\", \" \", 600, 700)\n",
      "c.Divide(1,2)\n",
      "c.cd(1)\n",
      "hReelD1.Draw()\n",
      "c.cd(2)\n",
      "hReelPr.Draw()"
     ],
     "language": "python",
     "metadata": {},
     "outputs": [
      {
       "ename": "AttributeError",
       "evalue": "'PyROOT_NoneType' object has no attribute 'Draw'",
       "output_type": "pyerr",
       "traceback": [
        "\u001b[1;31m---------------------------------------------------------------------------\u001b[0m\n\u001b[1;31mAttributeError\u001b[0m                            Traceback (most recent call last)",
        "\u001b[1;32m<ipython-input-28-25ce768542f7>\u001b[0m in \u001b[0;36m<module>\u001b[1;34m()\u001b[0m\n\u001b[0;32m      2\u001b[0m \u001b[0mc\u001b[0m\u001b[1;33m.\u001b[0m\u001b[0mDivide\u001b[0m\u001b[1;33m(\u001b[0m\u001b[1;36m1\u001b[0m\u001b[1;33m,\u001b[0m\u001b[1;36m2\u001b[0m\u001b[1;33m)\u001b[0m\u001b[1;33m\u001b[0m\u001b[0m\n\u001b[0;32m      3\u001b[0m \u001b[0mc\u001b[0m\u001b[1;33m.\u001b[0m\u001b[0mcd\u001b[0m\u001b[1;33m(\u001b[0m\u001b[1;36m1\u001b[0m\u001b[1;33m)\u001b[0m\u001b[1;33m\u001b[0m\u001b[0m\n\u001b[1;32m----> 4\u001b[1;33m \u001b[0mhReelD1\u001b[0m\u001b[1;33m.\u001b[0m\u001b[0mDraw\u001b[0m\u001b[1;33m(\u001b[0m\u001b[1;33m)\u001b[0m\u001b[1;33m\u001b[0m\u001b[0m\n\u001b[0m\u001b[0;32m      5\u001b[0m \u001b[0mc\u001b[0m\u001b[1;33m.\u001b[0m\u001b[0mcd\u001b[0m\u001b[1;33m(\u001b[0m\u001b[1;36m2\u001b[0m\u001b[1;33m)\u001b[0m\u001b[1;33m\u001b[0m\u001b[0m\n\u001b[0;32m      6\u001b[0m \u001b[0mhReelPr\u001b[0m\u001b[1;33m.\u001b[0m\u001b[0mDraw\u001b[0m\u001b[1;33m(\u001b[0m\u001b[1;33m)\u001b[0m\u001b[1;33m\u001b[0m\u001b[0m\n",
        "\u001b[1;31mAttributeError\u001b[0m: 'PyROOT_NoneType' object has no attribute 'Draw'"
       ]
      }
     ],
     "prompt_number": 28
    },
    {
     "cell_type": "code",
     "collapsed": false,
     "input": [
      "c = ROOT.TCanvas(\"c\", \" \", 600, 700)"
     ],
     "language": "python",
     "metadata": {},
     "outputs": [],
     "prompt_number": 142
    },
    {
     "cell_type": "code",
     "collapsed": false,
     "input": [],
     "language": "python",
     "metadata": {},
     "outputs": []
    }
   ],
   "metadata": {}
  }
 ]
}