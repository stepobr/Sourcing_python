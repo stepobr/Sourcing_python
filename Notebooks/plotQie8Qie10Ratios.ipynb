{
 "metadata": {
  "name": "plotQie8Qie10Ratios"
 },
 "nbformat": 3,
 "nbformat_minor": 0,
 "worksheets": [
  {
   "cells": [
    {
     "cell_type": "code",
     "collapsed": false,
     "input": [
      "import ROOT\n",
      "from array import array\n",
      "import numpy as np\n",
      "import sys\n",
      "sys.path.append(\"../Common\")\n",
      "import utils\n",
      "from utils import *\n",
      "import math\n",
      "#reload(utils)\n",
      "#\n",
      "f = ROOT.TFile(\"../Scripts/forQieRatios.root\")"
     ],
     "language": "python",
     "metadata": {},
     "outputs": [],
     "prompt_number": 20
    },
    {
     "cell_type": "raw",
     "metadata": {},
     "source": [
      "******************************************************************************\n",
      "*Tree    :t         : qie8 and qie10 data                                    *\n",
      "*Entries :       24 : Total =            4061 bytes  File  Size =       2032 *\n",
      "*        :          : Tree compression factor =   1.64                       *\n",
      "******************************************************************************\n",
      "*Br    0 :qie data  : eta/D:phi/D:emhad/D:nentries8/D:fcMean8/D:fcMean8err/D:*\n",
      "*         | fcIntegral8/D:nentries10/D:fcMean10/D:fcMean10err/D:             *\n",
      "*         | fcIntegral10/D                                                   *\n",
      "*Entries :       24 : Total  Size=       3671 bytes  File Size  =       1330 *\n",
      "*Baskets :        1 : Basket Size=      32000 bytes  Compression=   1.64     *\n",
      "*............................................................................*"
     ]
    },
    {
     "cell_type": "code",
     "collapsed": false,
     "input": [
      "def ratioError(y1, dy1, y2, dy2):\n",
      "    # Error of y1/(y1+y2)\n",
      "    dummy = math.sqrt( dy1*dy1/y1/y1  + dy2*dy2/y2/y2 )\n",
      "    try:\n",
      "        ratio = y1/(y1 + y2)\n",
      "        error = ratio*dummy\n",
      "        #error = 0\n",
      "    except ZeroDivisionError, e:\n",
      "        print str(e)\n",
      "        error = 0\n",
      "        pass\n",
      "        \n",
      "    return error"
     ],
     "language": "python",
     "metadata": {},
     "outputs": [],
     "prompt_number": 71
    },
    {
     "cell_type": "code",
     "collapsed": false,
     "input": [
      "# Plotting fcMean8/(fcMean8 + fcMean10)\n",
      "\n",
      "graph810had = ROOT.TGraphErrors()\n",
      "graph810em = ROOT.TGraphErrors()\n",
      "graph10had = ROOT.TGraphErrors()  # Eta 30 and 34\n",
      "\n",
      "\n",
      "t = f.Get(\"t\")\n",
      "for i in range(t.GetEntries()):\n",
      "    nb = t.GetEntry(i)\n",
      "    if nb < 0:\n",
      "        continue \n",
      "        \n",
      "    if t.fcMean8 == 0 or t.fcMean10 == 0:\n",
      "        continue\n",
      "    \n",
      "    try:\n",
      "        r = t.fcMean8/(t.fcMean8 + t.fcMean10)\n",
      "    except ZeroDivisionError, e:\n",
      "        print \"Zero division for eta\", t.eta, \"emhad\", t.emhad\n",
      "        \n",
      "    dr = ratioError(t.fcMean8, t.fcMean8err, t.fcMean10, t.fcMean10err)\n",
      "        \n",
      "    if (t.eta==30 or t.eta==34) and t.emhad == 2:\n",
      "        pointNo = graph810had.GetN()\n",
      "        graph10had.SetPoint(pointNo, t.eta, r)\n",
      "        graph10had.SetPointError(pointNo, 0., dr) \n",
      "            \n",
      "    elif (t.eta==30 or t.eta==32) and t.emhad == 1:\n",
      "        pointNo = graph810had.GetN()\n",
      "        graph810em.SetPoint(pointNo, t.eta, r)\n",
      "        graph810em.SetPointError(pointNo, 0., dr) \n",
      "        print t.eta, t.emhad, r\n",
      "    \n",
      "    else:\n",
      "        pointNo = graph810had.GetN()\n",
      "        graph810had.SetPoint(pointNo, t.eta, r)\n",
      "        graph810had.SetPointError(pointNo, 0., dr)\n",
      "\n",
      "    \n",
      "    \n",
      "#Drawing\n",
      "graph810had.SetMarkerColor(ROOT.kBlue)\n",
      "graph810had.SetLineColor(ROOT.kBlue)\n",
      "graph810em.SetLineColor(ROOT.kBlack)\n",
      "graph810em.SetMarkerColor(ROOT.kBlack)\n",
      "graph10had.SetLineColor(ROOT.kRed)\n",
      "graph10had.SetMarkerColor(ROOT.kRed)\n",
      "\n",
      "c = ROOT.TCanvas()\n",
      "ROOT.gStyle.SetMarkerStyle(20)\n",
      "graph810had.SetFillStyle(0)\n",
      "graph810had.Draw(\"AP\")\n",
      "c.Modified()\n",
      "graph810had.GetYaxis().SetRangeUser(0.4, 0.55)\n",
      "graph10had.Draw(\"P\")\n",
      "graph810em.Draw(\"P\")"
     ],
     "language": "python",
     "metadata": {},
     "outputs": [
      {
       "output_type": "stream",
       "stream": "stdout",
       "text": [
        "30.0 1.0 0.443232980993\n",
        "32.0 1.0 0.44523761096\n"
       ]
      }
     ],
     "prompt_number": 72
    },
    {
     "cell_type": "code",
     "collapsed": false,
     "input": [],
     "language": "python",
     "metadata": {},
     "outputs": []
    }
   ],
   "metadata": {}
  }
 ]
}